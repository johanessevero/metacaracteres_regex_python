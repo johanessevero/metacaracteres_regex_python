{
 "cells": [
  {
   "cell_type": "markdown",
   "id": "b2896739",
   "metadata": {},
   "source": [
    "## Metacaracteres em expressões regulares: exemplos em python"
   ]
  },
  {
   "cell_type": "markdown",
   "id": "eb0a498d",
   "metadata": {},
   "source": [
    "### Metacaracteres em expressões regulares: exemplos em python ###\n",
    "\n",
    "#### Metacaracteres ####\n",
    "\n",
    "<p>Os metacaracteres em expressões regulares são caracteres especiais que possuem um significado especial e são utilizados para construir padrões de correspondência mais complexos. Eles permitem realizar buscas mais precisas e flexíveis em um texto.</p>\n",
    "\n",
    "#### Metacaracteres de Correspondência ####\n",
    "\n",
    "<p>Os metacaracteres de correspondência em expressões regulares são utilizados para especificar padrões que correspondem a um determinado conjunto de caracteres em um texto. Eles nos permitem encontrar correspondências exatas ou parciais de uma sequência de caracteres.</p>\n",
    "\n",
    "<p>Aqui estão alguns exemplos de metacaracteres de correspondência:</p>\n",
    "\n",
    "- <code>.</code> (ponto): corresponde a qualquer caractere, exceto uma nova linha. Por exemplo, o padrão <code>c.t</code> corresponderia a \"cat\", \"cut\", \"cot\", entre outros.\n",
    "<p>Um exemplo em python utilizando esse metacaracter é o seguinte:</p>"
   ]
  },
  {
   "cell_type": "code",
   "execution_count": 28,
   "id": "f1216f9c",
   "metadata": {},
   "outputs": [
    {
     "name": "stdout",
     "output_type": "stream",
     "text": [
      "saída: ['cat', 'cut']\n"
     ]
    }
   ],
   "source": [
    "import re\n",
    "\n",
    "pattern = r\"c.t\"\n",
    "text = \"the cat sat on the mat cut.\"\n",
    "\n",
    "matches = re.findall(pattern, text)\n",
    "print(\"saída:\", matches)"
   ]
  },
  {
   "cell_type": "markdown",
   "id": "855a290f",
   "metadata": {},
   "source": [
    "<p>Neste exemplo, foi usada a biblioteca <code>re</code> para trabalhar com expressões regulares em Python. Definiu-se o padrão como <code>\"c.t\"</code>, onde o <code>.</code> corresponde a qualquer caractere, exceto uma nova linha. Em seguida, usa-se a função <code>findall()</code>para encontrar todas as correspondências do padrão no texto. A saída são as palavras \"cat\" e \"cut\", que são as sequências que atendem ao padrão definido.<p>"
   ]
  },
  {
   "cell_type": "markdown",
   "id": "24b8c771",
   "metadata": {},
   "source": [
    "<p><code>[]</code> (colchetes): corresponde a qualquer caractere dentro dos colchetes. Por exemplo, o padrão \"[aeiou]\" corresponde a qualquer vogal. Se quisermos encontrar palavras que comecem com uma vogal, podemos usar o padrão \"^[aeiou]\".</p><p>Um exemplo em python de uso desse metacaracter pode ser o seguinte:</p>"
   ]
  },
  {
   "cell_type": "code",
   "execution_count": 29,
   "id": "3fc0ab91",
   "metadata": {},
   "outputs": [
    {
     "name": "stdout",
     "output_type": "stream",
     "text": [
      "saídas: \n",
      "apple\n",
      "orange\n",
      "elephant\n"
     ]
    }
   ],
   "source": [
    "import re\n",
    "\n",
    "texto = '''apple \n",
    "banana\n",
    "orange\n",
    "dog\n",
    "cat\n",
    "elephant'''\n",
    "\n",
    "padrao = r\"^[aeiou]\\w+\"\n",
    "\n",
    "correspondencias = re.findall(padrao, texto, re.MULTILINE)\n",
    "\n",
    "print('saídas: ')\n",
    "for correspondencia in correspondencias:\n",
    "    print(correspondencia)"
   ]
  },
  {
   "cell_type": "markdown",
   "id": "6c73d59b",
   "metadata": {},
   "source": [
    "<p>Nesse exemplo, a expressão regular <code>^[aeiou]\\w*</code> é utilizada para encontrar palavras que começam com uma vogal. O <code>[aeiou]</code> representa uma classe de caracteres que corresponde a qualquer vogal. O <code>^</code> indica o início da palavra, seguido de uma vogal. O <code>\\w*</code> corresponde a zero ou mais caracteres alfanuméricos após a vogal. Assim, encontramos as palavras \"apple\", \"orange\" e \"elephant\" que começam com uma vogal no texto.</p>"
   ]
  },
  {
   "cell_type": "markdown",
   "id": "1112a781",
   "metadata": {},
   "source": [
    "- <code>-</code> (hífen): usado dentro dos colchetes, representa um intervalo de caracteres. Por exemplo, o padrão <code>[a-z]</code> corresponde a qualquer caractere alfabético minúsculo.\n",
    "\n",
    "<p>Um exemplo em python de uso desse metacaracter pode ser o seguinte:</p>"
   ]
  },
  {
   "cell_type": "code",
   "execution_count": 31,
   "id": "e16415a5",
   "metadata": {},
   "outputs": [
    {
     "name": "stdout",
     "output_type": "stream",
     "text": [
      "saída: ['Hello', 'World']\n"
     ]
    }
   ],
   "source": [
    "import re\n",
    "\n",
    "texto = \"Hello, World! 123\"\n",
    "padrao = r\"[a-z]+\"\n",
    "\n",
    "correspondencias = re.findall(padrao, texto, re.IGNORECASE)\n",
    "print('saída:', correspondencias)"
   ]
  },
  {
   "cell_type": "markdown",
   "id": "8c70f960",
   "metadata": {},
   "source": [
    "<p>Nesse exemplo, o padrão <code>[a-z]+</code> é utilizado na função <code>re.findall()</code> para encontrar todas as ocorrências de sequências de letras minúsculas no texto. O modificador <code>re.IGNORECASE</code> é usado para ignorar a diferenciação entre maiúsculas e minúsculas.</p>\n",
    "\n",
    "<p>O padrão <code>[a-z]</code> corresponde a qualquer caractere alfabético minúsculo individualmente. Ao usar o quantificador <code>+</code> após o padrão, garantimos que corresponda a uma ou mais ocorrências consecutivas de letras minúsculas.</p>"
   ]
  },
  {
   "cell_type": "markdown",
   "id": "5f84e1a0",
   "metadata": {},
   "source": [
    "- <code>[^]</code> (colchetes negados): corresponde a qualquer caractere que não esteja dentro dos colchetes. Por exemplo, o padrão <code>[^0-9]</code> corresponde a qualquer caractere que não seja um dígito numérico.\n",
    "    \n",
    "<p>Um exemplo em python de uso desse metacaracter pode ser o seguinte:</p>"
   ]
  },
  {
   "cell_type": "code",
   "execution_count": 33,
   "id": "8bfd0c5a",
   "metadata": {},
   "outputs": [
    {
     "name": "stdout",
     "output_type": "stream",
     "text": [
      "saída:  ['H', 'e', 'l', 'l', 'o', ',', ' ', 'W', 'o', 'r', 'l', 'd', '!', ' ']\n"
     ]
    }
   ],
   "source": [
    "import re\n",
    "\n",
    "texto = \"Hello, World! 123\"\n",
    "padrao = r\"[^0-9]\"\n",
    "\n",
    "correspondencias = re.findall(padrao, texto)\n",
    "print(\"saída: \", correspondencias)"
   ]
  },
  {
   "cell_type": "markdown",
   "id": "0bbd0c7e",
   "metadata": {},
   "source": [
    "Nesse exemplo, o padrão <code>[^0-9]</code> é utilizado na função <code>re.findall()</code> para encontrar todas as ocorrências de caracteres que não sejam dígitos numéricos no texto."
   ]
  },
  {
   "cell_type": "markdown",
   "id": "d81e8262",
   "metadata": {},
   "source": [
    "- <code>\\d</code>: corresponde a qualquer dígito numérico. É equivalente a <code>[0-9]</code>;\n",
    "\n",
    "<p>Um exemplo em python de uso desse metacaracter pode ser o seguinte:</p>"
   ]
  },
  {
   "cell_type": "code",
   "execution_count": 35,
   "id": "83b52c78",
   "metadata": {},
   "outputs": [
    {
     "name": "stdout",
     "output_type": "stream",
     "text": [
      "saída: ['1', '2', '3', '4', '5', '6']\n"
     ]
    }
   ],
   "source": [
    "import re\n",
    "\n",
    "texto = \"123 Hello 456 World\"\n",
    "padrao = r\"\\d\"\n",
    "\n",
    "correspondencias = re.findall(padrao, texto)\n",
    "print(\"saída:\", correspondencias)"
   ]
  },
  {
   "cell_type": "markdown",
   "id": "616324fa",
   "metadata": {},
   "source": [
    "Nesse exemplo, o padrão <code>\\d</code> é utilizado na função <code>re.findall()</code> para encontrar todas as ocorrências de dígitos numéricos no texto."
   ]
  },
  {
   "cell_type": "markdown",
   "id": "032dc07b",
   "metadata": {},
   "source": [
    "- <code>\\D</code>: corresponde a qualquer caractere que não seja um dígito numérico. É equivalente a <code>[^0-9]</code>.\n",
    "\n",
    "<p>Um exemplo em python de uso desse metacaracter pode ser o seguinte:</p>"
   ]
  },
  {
   "cell_type": "code",
   "execution_count": 38,
   "id": "0e96e3bb",
   "metadata": {},
   "outputs": [
    {
     "name": "stdout",
     "output_type": "stream",
     "text": [
      "saída:  [' ', 'H', 'e', 'l', 'l', 'o', ' ', ' ', 'W', 'o', 'r', 'l', 'd', '!']\n"
     ]
    }
   ],
   "source": [
    "import re\n",
    "\n",
    "texto = \"123 Hello 456 World!\"\n",
    "padrao = r\"\\D\"\n",
    "\n",
    "correspondencias = re.findall(padrao, texto)\n",
    "print(\"saída: \", correspondencias)"
   ]
  },
  {
   "cell_type": "markdown",
   "id": "717e582b",
   "metadata": {},
   "source": [
    "Nesse exemplo, o padrão <code>\\D</code> é utilizado na função <code>re.findall()</code> para encontrar todas as ocorrências de caracteres que não sejam dígitos numéricos."
   ]
  },
  {
   "cell_type": "markdown",
   "id": "6a61ada6",
   "metadata": {},
   "source": [
    "- <code>\\w</code>: corresponde a qualquer caractere alfanumérico (letras maiúsculas e minúsculas, dígitos e sublinhado). É equivalente a <code>[a-zA-Z0-9_]</code>.\n",
    "  \n",
    "<p>Um exemplo em python de uso desse metacaracter pode ser o seguinte:</p>"
   ]
  },
  {
   "cell_type": "code",
   "execution_count": 40,
   "id": "aae6cd84",
   "metadata": {},
   "outputs": [
    {
     "name": "stdout",
     "output_type": "stream",
     "text": [
      "saida: ['H', 'e', 'l', 'l', 'o', 'W', 'o', 'r', 'l', 'd', '_', '1', '2', '3']\n"
     ]
    }
   ],
   "source": [
    "import re\n",
    "\n",
    "texto = \"Hello World_123!\"\n",
    "padrao = r\"\\w\"\n",
    "\n",
    "correspondencias = re.findall(padrao, texto)\n",
    "print(\"saida:\", correspondencias)"
   ]
  },
  {
   "cell_type": "markdown",
   "id": "a2bf3ee8",
   "metadata": {},
   "source": [
    "- <code>\\W</code>: corresponde a qualquer caractere que não seja alfanumérico. É equivalente a <code>[^a-zA-Z0-9_]</code></li>\n",
    "\n",
    "<p>Um exemplo em python de uso desse metacaracter pode ser o seguinte:</p>"
   ]
  },
  {
   "cell_type": "code",
   "execution_count": 41,
   "id": "99aff19a",
   "metadata": {},
   "outputs": [
    {
     "name": "stdout",
     "output_type": "stream",
     "text": [
      "saída: [' ', '!']\n"
     ]
    }
   ],
   "source": [
    "import re\n",
    "\n",
    "texto = \"Hello World_123!\"\n",
    "padrao = r\"\\W\"\n",
    "\n",
    "correspondencias = re.findall(padrao, texto)\n",
    "print(\"saída:\", correspondencias)"
   ]
  },
  {
   "cell_type": "markdown",
   "id": "5d76dd1d",
   "metadata": {},
   "source": [
    "Nesse exemplo, o padrão <code>\\W</code>é utilizado na função <code>re.findall()</code> para encontrar todas as ocorrências de caracteres que não sejam alfanuméricos no texto."
   ]
  },
  {
   "cell_type": "markdown",
   "id": "592b1684",
   "metadata": {},
   "source": [
    "- <code>\\s</code>: corresponde a qualquer caractere de espaço em branco (espaço, tabulação, quebra de linha).\n",
    "\n",
    "<p>Um exemplo em python de uso desse metacaracter pode ser o seguinte:</p>"
   ]
  },
  {
   "cell_type": "code",
   "execution_count": 44,
   "id": "6657ad98",
   "metadata": {},
   "outputs": [
    {
     "name": "stdout",
     "output_type": "stream",
     "text": [
      "saída:  ['\\t', '\\n', ' ', ' ']\n"
     ]
    }
   ],
   "source": [
    "import re\n",
    "\n",
    "texto = \"Olá\\tmundo!\\nComo vai você?\"\n",
    "\n",
    "padrao = r\"\\s\"\n",
    "correspondencias = re.findall(padrao, texto)\n",
    "print(\"saída: \", correspondencias)"
   ]
  },
  {
   "cell_type": "markdown",
   "id": "846eb24a",
   "metadata": {},
   "source": [
    "Nesse exemplo, o padrão <code>\\s</code> é utilizado na função <code>re.findall()</code> para encontrar todas as ocorrências de caracteres de espaço em branco no texto."
   ]
  },
  {
   "cell_type": "markdown",
   "id": "19198f99",
   "metadata": {},
   "source": [
    " - <code>\\S</code>: corresponde a qualquer caractere que não seja um espaço em branco.\n",
    " \n",
    " <p>Um exemplo em python de uso desse metacaracter pode ser o seguinte:</p>"
   ]
  },
  {
   "cell_type": "code",
   "execution_count": 49,
   "id": "ef5e6c88",
   "metadata": {},
   "outputs": [
    {
     "name": "stdout",
     "output_type": "stream",
     "text": [
      "saída:  ['O', 'l', 'á', 'm', 'u', 'n', 'd', 'o', '!', 'C', 'o', 'm', 'o', 'v', 'a', 'i', 'v', 'o', 'c', 'ê', '?']\n"
     ]
    }
   ],
   "source": [
    "import re\n",
    "\n",
    "texto = \"Olá\\tmundo!\\nComo vai você?\"\n",
    "\n",
    "padrao = r\"\\S\"\n",
    "correspondencias = re.findall(padrao, texto)\n",
    "print(\"saída: \", correspondencias)"
   ]
  },
  {
   "cell_type": "markdown",
   "id": "ad2bb90d",
   "metadata": {},
   "source": [
    "Nesse exemplo, o padrão <code>\\S</code> é utilizado na função <code>re.findall()</code> para encontrar todas as ocorrências de caracteres que não seja um espaço em branco."
   ]
  },
  {
   "cell_type": "markdown",
   "id": "264c38d6",
   "metadata": {},
   "source": [
    "#### Metacaracteres de quantificação"
   ]
  },
  {
   "cell_type": "markdown",
   "id": "6ed48372",
   "metadata": {},
   "source": [
    "Os metacaracteres de quantificação em expressões regulares são utilizados para especificar quantas vezes um determinado padrão deve ocorrer em uma sequência de caracteres. Eles nos permitem especificar se um padrão deve aparecer uma vez, várias vezes ou até mesmo uma quantidade específica de vezes."
   ]
  },
  {
   "cell_type": "markdown",
   "id": "bb6dcaad",
   "metadata": {},
   "source": [
    "- <code>*</code> (asterisco): corresponde a zero ou mais ocorrências do padrão anterior. Por exemplo, o padrão <code>ab*</code> corresponde a \"a\", \"ab\", \"abb\", \"abbb\" e assim por diante.\n",
    "\n",
    "Um exemplo em python de uso desse metacaracter pode ser o seguinte:"
   ]
  },
  {
   "cell_type": "code",
   "execution_count": 50,
   "id": "2a94a299",
   "metadata": {},
   "outputs": [
    {
     "name": "stdout",
     "output_type": "stream",
     "text": [
      "saída:  ['a', 'abb', 'abbb', 'ab', 'abb', 'a']\n"
     ]
    }
   ],
   "source": [
    "import re\n",
    "\n",
    "texto = \"a abb abbb abc abbc ac\"\n",
    "\n",
    "padrao = r\"ab*\"\n",
    "\n",
    "correspondencias = re.findall(padrao, texto)\n",
    "\n",
    "print(\"saída: \", correspondencias)"
   ]
  },
  {
   "cell_type": "markdown",
   "id": "2c0e624b",
   "metadata": {},
   "source": [
    "Nesse exemplo, o padrão <code>ab*</code> é utilizado na função <code>re.findall()</code> para encontrar todas as ocorrências que começam com \"a\" seguido de zero ou mais \"b\". A saída será uma lista com as correspondências encontradas:\n",
    "\n",
    "<code>['a', 'abb', 'abbb', 'ab', 'abbc']</code>\n",
    "\n",
    "Isso ocorre porque o padrão \"ab*\" corresponde a \"a\", \"abb\", \"abbb\", \"ab\" e \"abbc\" no texto fornecido."
   ]
  },
  {
   "cell_type": "markdown",
   "id": "1e959822",
   "metadata": {},
   "source": [
    " - <code>+</code> (sinal de mais): corresponde a uma ou mais ocorrências do padrão anterior. Por exemplo, o padrão <code>ab+</code> corresponde a \"ab\", \"abb\", \"abbb\" e assim por diante, mas não corresponde a apenas \"a\".\n",
    " \n",
    " Um exemplo em python de uso desse metacaracter pode ser o seguinte:"
   ]
  },
  {
   "cell_type": "code",
   "execution_count": 51,
   "id": "94f08744",
   "metadata": {},
   "outputs": [
    {
     "name": "stdout",
     "output_type": "stream",
     "text": [
      "saída ['abb', 'abbb', 'ab', 'abb']\n"
     ]
    }
   ],
   "source": [
    "import re\n",
    "\n",
    "texto = \"a abb abbb abc abbc ac\"\n",
    "\n",
    "padrao = r\"ab+\"\n",
    "\n",
    "correspondencias = re.findall(padrao, texto)\n",
    "\n",
    "print(\"saída\", correspondencias)"
   ]
  },
  {
   "cell_type": "markdown",
   "id": "7443e200",
   "metadata": {},
   "source": [
    "Nesse exemplo, o padrão <code>ab+</code> é utilizado na função <code>re.findall()</code> para encontrar todas as ocorrências que começam com \"a\" seguido de um ou mais \"b\". A saída será uma lista com as correspondências encontradas:\n",
    "\n",
    "<code>['ab', 'abb', 'abbb', 'ab', 'abbc']</code>\n",
    "\n",
    "Isso ocorre porque o padrão <code>ab+</code> corresponde a \"ab\", \"abb\", \"abbb\", \"ab\" e \"abbc\" no texto fornecido. No entanto, a correspondência \"a\" não é incluída, pois o <code>+</code> exige que pelo menos um \"b\" esteja presente."
   ]
  },
  {
   "cell_type": "markdown",
   "id": "370fcc7a",
   "metadata": {},
   "source": [
    "- <code>?</code> (interrogação): corresponde a zero ou uma ocorrência do padrão anterior. Por exemplo, o padrão \"colou?r\" corresponde tanto a \"color\" como a \"colour\".\n",
    "\n",
    "Um exemplo em python de uso desse metacaracter pode ser o seguinte:"
   ]
  },
  {
   "cell_type": "code",
   "execution_count": 52,
   "id": "4d08a14e",
   "metadata": {},
   "outputs": [
    {
     "name": "stdout",
     "output_type": "stream",
     "text": [
      "saída ['color', 'colour']\n"
     ]
    }
   ],
   "source": [
    "import re\n",
    "\n",
    "texto = \"The color of the sky is blue. The colour of the flower is red.\"\n",
    "\n",
    "padrao = r\"colou?r\"\n",
    "\n",
    "correspondencias = re.findall(padrao, texto)\n",
    "\n",
    "print(\"saída\", correspondencias)"
   ]
  },
  {
   "cell_type": "markdown",
   "id": "1ac709af",
   "metadata": {},
   "source": [
    "Nesse exemplo, o padrão <code>colou?r</code> é utilizado na função <code>re.findall()</code> para encontrar todas as ocorrências que correspondam a \"color\" ou \"colour\". A saída será uma lista com as correspondências encontradas:\n",
    "\n",
    "<code>['color', 'colour']</code>\n",
    "\n",
    "Isso ocorre porque o ponto de interrogação <code>?</code> indica que o caractere anterior (nesse caso, a letra \"u\") é opcional na correspondência. Portanto, o padrão <code>colou?r</code> corresponderá tanto a \"color\" quanto a \"colour\" no texto fornecido."
   ]
  },
  {
   "cell_type": "markdown",
   "id": "e2593b2c",
   "metadata": {},
   "source": [
    "- <code>{n}</code> (chaves): corresponde exatamente a $n$ ocorrências do padrão anterior. Por exemplo, o padrão <code>a{3}</code> corresponde a \"aaa\".\n",
    "\n",
    "Um exemplo em python de uso desse metacaracter pode ser o seguinte:"
   ]
  },
  {
   "cell_type": "code",
   "execution_count": 58,
   "id": "0c31b9df",
   "metadata": {},
   "outputs": [
    {
     "name": "stdout",
     "output_type": "stream",
     "text": [
      "saída ['aaa', 'aaa', 'aaa', 'aaa', 'aaa', 'aaa']\n"
     ]
    }
   ],
   "source": [
    "import re\n",
    "\n",
    "texto = \"aaaa aaa aaaaaa aaaaaaa\"\n",
    "\n",
    "padrao = r\"a{3}\"\n",
    "\n",
    "correspondencias = re.findall(padrao, texto)\n",
    "\n",
    "print(\"saída\", correspondencias)"
   ]
  },
  {
   "cell_type": "markdown",
   "id": "ef15d9dc",
   "metadata": {},
   "source": [
    "Nesse exemplo, o padrão <code>a{3}</code> é utilizado na função <code>re.findall()</code> para encontrar todas as ocorrências em que o caractere \"a\" se repete exatamente três vezes consecutivas. A saída será uma lista com as correspondências encontradas:\n",
    "\n",
    "<code>['aaa', 'aaa', 'aaa', 'aaa', 'aaa', 'aaa']</code>\n",
    "\n",
    "Isso ocorre porque o padrão \"a{3}\" especifica que o caractere \"a\" deve ocorrer exatamente três vezes consecutivas na correspondência e no texto \"aaaa aaa aaaaaa aaaaaaa\" ocorrem seis casos desse tipo."
   ]
  },
  {
   "cell_type": "markdown",
   "id": "f498ab8b",
   "metadata": {},
   "source": [
    "- <code>{n,}</code> (chaves com vírgula): corresponde a no mínimo $n$ ocorrências do padrão anterior. Por exemplo, o padrão <code>a{2,}</code> corresponde a \"aa\", \"aaa\", \"aaaa\" e assim por diante.\n",
    "\n",
    "Um exemplo em python de uso desse metacaracter pode ser o seguinte:"
   ]
  },
  {
   "cell_type": "code",
   "execution_count": 61,
   "id": "31582c6b",
   "metadata": {},
   "outputs": [
    {
     "name": "stdout",
     "output_type": "stream",
     "text": [
      "saída ['aa', 'aaa', 'aaaa']\n"
     ]
    }
   ],
   "source": [
    "import re\n",
    "\n",
    "texto = \"a aa aaa aaaa\"\n",
    "\n",
    "padrao = r\"a{2,}\"\n",
    "\n",
    "correspondencias = re.findall(padrao, texto)\n",
    "\n",
    "print(\"saída\", correspondencias)"
   ]
  },
  {
   "cell_type": "markdown",
   "id": "452e1c17",
   "metadata": {},
   "source": [
    "Nesse exemplo, o padrão <code>a{2,n}</code> é utilizado na função <code>re.findall()</code> para encontrar todas as ocorrências em que o caractere \"a\" ocorre no mínimo duas vezes. A saída será uma lista com as correspondências encontradas:\n",
    "\n",
    "<code>['aa', 'aaa', 'aaaa']</code>"
   ]
  },
  {
   "cell_type": "markdown",
   "id": "45f0b973",
   "metadata": {},
   "source": [
    "- <code>{n,m}</code> (chaves com dois valores separados por vírgula): corresponde a um mínimo de n ocorrências e um máximo de m ocorrências do padrão anterior. Por exemplo, o padrão <code>a{2,4}</code> corresponde a \"aa\", \"aaa\" e \"aaaa\", mas não corresponde a apenas \"a\" ou a \"aaaaa\".\n",
    "\n",
    "Um exemplo em python de uso desse metacaracter pode ser o seguinte:"
   ]
  },
  {
   "cell_type": "code",
   "execution_count": 64,
   "id": "8e3ee907",
   "metadata": {},
   "outputs": [
    {
     "name": "stdout",
     "output_type": "stream",
     "text": [
      "saída ['aa', 'aaa', 'aaaa', 'aaaa', 'aaaa', 'aa']\n"
     ]
    }
   ],
   "source": [
    "import re\n",
    "\n",
    "texto = \"a aa aaa aaaa aaaaa aaaaaa\"\n",
    "\n",
    "padrao = r\"a{2,4}\"\n",
    "\n",
    "correspondencias = re.findall(padrao, texto)\n",
    "\n",
    "print(\"saída\", correspondencias)"
   ]
  },
  {
   "cell_type": "markdown",
   "id": "517ac6e9",
   "metadata": {},
   "source": [
    "Nesse exemplo, o padrão <code>a{2,4}</code> é utilizado na função <code>re.findall()</code> para encontrar todas as ocorrências em que o caractere \"a\" ocorre no mínimo duas vezes. A saída será uma lista com as correspondências encontradas:\n",
    "\n",
    "<code>['aa', 'aaa', 'aaaa', 'aaaa', 'aaaa', 'aa']</code>\n",
    "\n",
    "Isso ocorre porque o padrão <code>a{2,4}</code> especifica que o caractere \"a\" deve ocorrer no mínimo duas e no máximo quatro vezes consecutivas na correspondência e no texto \"a aa aaa aaaa aaaaa aaaaaa\" ocorrem seis casos desse tipo."
   ]
  },
  {
   "cell_type": "markdown",
   "id": "f8500fe1",
   "metadata": {},
   "source": [
    "#### Metacaracteres de agrupamento e alternância"
   ]
  },
  {
   "cell_type": "markdown",
   "id": "7833bd40",
   "metadata": {},
   "source": [
    "Os metacaracteres de agrupamento e alternância são usados para agrupar partes de uma expressão regular ou especificar alternativas."
   ]
  },
  {
   "cell_type": "markdown",
   "id": "25a50976",
   "metadata": {},
   "source": [
    "- Matacaractere de agrupamento <code>(caracteres)</code> é usado para agrupar uma sequência de caracteres. Por exemplo, o padrão <code>(abc)+</code> corresponde a uma ou mais ocorrências da sequência \"abc\". Ele corresponderia a \"abc\", \"abcabc\", \"abcabcabc\", e assim por diante.\n",
    "\n",
    "Um exemplo em python de uso desse metacaracter pode ser o seguinte:"
   ]
  },
  {
   "cell_type": "code",
   "execution_count": 81,
   "id": "fa7c4e15",
   "metadata": {},
   "outputs": [
    {
     "name": "stdout",
     "output_type": "stream",
     "text": [
      "saída: \n",
      "abc\n",
      "abcabc\n",
      "abcabcabc\n"
     ]
    }
   ],
   "source": [
    "import re\n",
    "\n",
    "texto = \"abc abcabc abcabcabc\"\n",
    "\n",
    "padrao = r\"(abc)+\"\n",
    "\n",
    "correspondencias = re.finditer(padrao, texto)\n",
    "\n",
    "print(\"saída: \")\n",
    "for correspondencia in correspondencias:\n",
    "    print(correspondencia.group())"
   ]
  },
  {
   "cell_type": "markdown",
   "id": "4aaf1af6",
   "metadata": {},
   "source": [
    "Se utilizarmos o método <code>re.findall()</code> isso retornará apenas os grupos de captura correspondentes, no caso do padrão <code>(abc)+</code>, que é o grupo (abc) repetido uma ou mais vezes.\n",
    "\n",
    "Para obter todas as correspondências que contêm a sequência \"abc\" repetida uma ou mais vezes, pode-se utilizar o método <code>re.finditer()</code> para iterar sobre as correspondências encontradas. "
   ]
  },
  {
   "cell_type": "markdown",
   "id": "5630aa1c",
   "metadata": {},
   "source": [
    "- O metacaractere de alternância <code>|</code> é usado para especificar alternativas. O exemplo <code>apple|banana</code> corresponde a \"apple\" ou \"banana\". Ele encontraria correspondências em um texto que contém qualquer uma das palavras \"apple\" ou \"banana\".\n",
    "\n",
    "Um exemplo em python de uso desse metacaracter pode ser o seguinte:"
   ]
  },
  {
   "cell_type": "code",
   "execution_count": 77,
   "id": "682c40f6",
   "metadata": {},
   "outputs": [
    {
     "name": "stdout",
     "output_type": "stream",
     "text": [
      "saída ['apple', 'banana']\n"
     ]
    }
   ],
   "source": [
    "import re\n",
    "\n",
    "texto = \"I like apple, but sometimes I prefer banana.\"\n",
    "\n",
    "padrao = r\"apple|banana\"\n",
    "\n",
    "correspondencias = re.findall(padrao, texto)\n",
    "\n",
    "print(\"saída\", correspondencias)"
   ]
  },
  {
   "cell_type": "markdown",
   "id": "7c09910f",
   "metadata": {},
   "source": [
    "Nesse exemplo, o padrão <code>\"apple|banana\"</code> indica que se quer encontrar correspondências para \"apple\" ou \"banana\" no texto. O método <code>re.findall()</code> retornará uma lista com todas as correspondências encontradas."
   ]
  },
  {
   "cell_type": "markdown",
   "id": "043c218c",
   "metadata": {},
   "source": [
    "Pode-se combinar agrupamento e alternância. Por exemplo o padrão <code>(red|blue) car</code> corresponde a \"red car\" ou \"blue car\". Ele encontraria correspondências em um texto que contém a expressão \"red car\" ou \"blue car\".\n",
    "\n",
    "Um exemplo em python de uso desse metacaracter pode ser o seguinte:"
   ]
  },
  {
   "cell_type": "code",
   "execution_count": 80,
   "id": "17d6cbd5",
   "metadata": {},
   "outputs": [
    {
     "name": "stdout",
     "output_type": "stream",
     "text": [
      "saída: \n",
      "red car\n",
      "blue car\n"
     ]
    }
   ],
   "source": [
    "import re\n",
    "\n",
    "texto = \"I have a red car and a blue car.\"\n",
    "\n",
    "padrao = r\"(red|blue) car\"\n",
    "\n",
    "correspondencias = re.finditer(padrao, texto)\n",
    "\n",
    "print(\"saída: \")\n",
    "for correspondencia in correspondencias:\n",
    "    print(correspondencia.group())"
   ]
  },
  {
   "cell_type": "markdown",
   "id": "26e2425c",
   "metadata": {},
   "source": [
    "#### Metacaracteres de âncora"
   ]
  },
  {
   "cell_type": "markdown",
   "id": "8c1937b1",
   "metadata": {},
   "source": [
    "Os metacaracteres de âncora em expressões regulares são usados para especificar a posição em que um padrão deve ocorrer dentro do texto. Eles não correspondem a nenhum caractere em si, mas sim à posição do texto."
   ]
  },
  {
   "cell_type": "markdown",
   "id": "70d39f54",
   "metadata": {},
   "source": [
    "O Metacaractere <code>^</code> (circunflexo) é uma âncora de início de linha. Ele indica que o padrão deve ocorrer no início de uma linha. Por exemplo, o padrão <code>^Hello.*</code> corresponde a qualquer linha que comece com a palavra \"Hello\". Ele encontraria correspondências em um texto que contém as linhas \"Hello, world!\" ou \"Hello there\".\n",
    "\n",
    "Um exemplo em python de uso desse metacaracter pode ser o seguinte:"
   ]
  },
  {
   "cell_type": "code",
   "execution_count": 107,
   "id": "85381dd2",
   "metadata": {},
   "outputs": [
    {
     "name": "stdout",
     "output_type": "stream",
     "text": [
      "saída ['Hello, world!', 'Hello there']\n"
     ]
    }
   ],
   "source": [
    "import re\n",
    "\n",
    "texto = '''Hello, world!\n",
    "Hello there\n",
    "Goodbye, Hello'''\n",
    "\n",
    "padrao = r'^Hello.*'\n",
    "\n",
    "correspondencias = re.findall(padrao, texto, re.MULTILINE)\n",
    "\n",
    "print(\"saída\", correspondencias)"
   ]
  },
  {
   "cell_type": "markdown",
   "id": "2fb4ff88",
   "metadata": {},
   "source": [
    "Neste exemplo, o padrão <code>^Hello.*</code> é utilizado para corresponder a qualquer linha que comece com a palavra \"Hello\" e capturar todo o texto da linha até o final. A flag <code>re.MULTILINE</code> é usada para considerar cada linha separadamente."
   ]
  },
  {
   "cell_type": "markdown",
   "id": "1c29c2ef",
   "metadata": {},
   "source": [
    "O metacaractere <code>\\$</code> (cifrão) é uma âncora de final de linha e indica que o padrão deve ocorrer no final de uma linha. Por exemplo, o padrão <code>.*world$</code> corresponde a qualquer linha que termine com a palavra \"world\". Ele encontraria correspondências em um texto que contém as linhas \"Hello, world!\" ou \"Goodbye, world!\".\n",
    "\n",
    "Um exemplo em python de uso desse metacaracter pode ser o seguinte:"
   ]
  },
  {
   "cell_type": "code",
   "execution_count": 108,
   "id": "9c344fa9",
   "metadata": {},
   "outputs": [
    {
     "name": "stdout",
     "output_type": "stream",
     "text": [
      "saída ['Hello, world', 'Goodbye, world']\n"
     ]
    }
   ],
   "source": [
    "import re\n",
    "\n",
    "texto = '''Hello, world\n",
    "Goodbye, world\n",
    "Hello, Python!\n",
    "World is amazing'''\n",
    "\n",
    "padrao = r'.*world$'\n",
    "\n",
    "correspondencias = re.findall(padrao, texto, re.MULTILINE)\n",
    "\n",
    "print(\"saída\", correspondencias)"
   ]
  },
  {
   "cell_type": "markdown",
   "id": "abd33019",
   "metadata": {},
   "source": [
    "Neste exemplo, o padrão <code>.*world\\$</code> é utilizado para corresponder a qualquer linha que termine com a palavra \"word\" e capturar todo o texto da linha até a ocorrêcia de \"word\". A flag re.MULTILINE é usada para considerar cada linha separadamente."
   ]
  },
  {
   "cell_type": "markdown",
   "id": "a3e65d61",
   "metadata": {},
   "source": [
    "O metacaractere <code>\\b</code> é usado para definir âncoras de limite de palavra. Por exemplo, o padrão <code>\\bcat\\b</code> corresponde à palavra \"cat\" como uma palavra completa, sem ser parte de outra palavra. Ele encontraria correspondências em um texto que contém as palavras \"I have a cat\" ou \"The cat is black\", mas não em \"caterpillar\"."
   ]
  },
  {
   "cell_type": "code",
   "execution_count": 109,
   "id": "80222b14",
   "metadata": {},
   "outputs": [
    {
     "name": "stdout",
     "output_type": "stream",
     "text": [
      "saída ['cat', 'cat', 'cat']\n"
     ]
    }
   ],
   "source": [
    "import re\n",
    "\n",
    "texto = '''I have a cat.\n",
    "The cat is black.\n",
    "She loves to play with cats.\n",
    "The caterpillar is not a cat.'''\n",
    "\n",
    "padrao = r'\\bcat\\b'\n",
    "\n",
    "correspondencias = re.findall(padrao, texto)\n",
    "\n",
    "print(\"saída\", correspondencias)"
   ]
  },
  {
   "cell_type": "markdown",
   "id": "b5f18cab",
   "metadata": {},
   "source": [
    "Neste exemplo, o padrão <code>\\bcat\\b</code> é utilizado para corresponder à palavra \"cat\" como uma palavra completa, sem ser parte de outra palavra. A função <code>re.findall()</code> retorna todas as correspondências encontradas no texto.\n",
    "\n",
    "<code>['cat', 'cat']</code>\n",
    "\n",
    "Isso ocorre porque as palavras \"cat\" em \"I have a cat\" e \"The cat is black\" são correspondências válidas, enquanto em \"The caterpillar is not a cat\" a palavra \"cat\" faz parte da palavra \"caterpillar\" e não é considerada uma correspondência."
   ]
  },
  {
   "cell_type": "markdown",
   "id": "a76f4721",
   "metadata": {},
   "source": [
    "Um bom site para testar expressões regulares é: https://www.regextester.com/"
   ]
  }
 ],
 "metadata": {
  "kernelspec": {
   "display_name": "Python 3 (ipykernel)",
   "language": "python",
   "name": "python3"
  },
  "language_info": {
   "codemirror_mode": {
    "name": "ipython",
    "version": 3
   },
   "file_extension": ".py",
   "mimetype": "text/x-python",
   "name": "python",
   "nbconvert_exporter": "python",
   "pygments_lexer": "ipython3",
   "version": "3.9.13"
  }
 },
 "nbformat": 4,
 "nbformat_minor": 5
}
